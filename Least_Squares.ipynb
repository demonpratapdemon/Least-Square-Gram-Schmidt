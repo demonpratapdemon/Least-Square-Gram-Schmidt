{
 "cells": [
  {
   "cell_type": "code",
   "execution_count": 220,
   "metadata": {
    "executionInfo": {
     "elapsed": 1000,
     "status": "ok",
     "timestamp": 1604314258241,
     "user": {
      "displayName": "viswanath iiitb",
      "photoUrl": "",
      "userId": "05385138413223991502"
     },
     "user_tz": -330
    },
    "id": "JFXJIGgtKifk"
   },
   "outputs": [],
   "source": [
    "import os\n",
    "import random"
   ]
  },
  {
   "cell_type": "code",
   "execution_count": 221,
   "metadata": {
    "executionInfo": {
     "elapsed": 1189,
     "status": "ok",
     "timestamp": 1604314263875,
     "user": {
      "displayName": "viswanath iiitb",
      "photoUrl": "",
      "userId": "05385138413223991502"
     },
     "user_tz": -330
    },
    "id": "lBAX4CTgKifo"
   },
   "outputs": [],
   "source": [
    "def generate_dataset(r, c, seed = 42, sample = 0):\n",
    "    '''\n",
    "    Parameters\n",
    "    ----------\n",
    "    A : array-like, shape=[r, c]\n",
    "    b : array-like, shape=[r]\n",
    "    ''' \n",
    "    if sample == 1:\n",
    "        # sample test-case\n",
    "        A = [[1. , 1.],\n",
    "             [1. , 1.],\n",
    "             [1. , 0.]]\n",
    "        b =  [1, 2, 3]\n",
    "        \"\"\"\n",
    "        Q = [[0.5773502691896258, 0.4082482904638628], \n",
    "             [0.5773502691896258, 0.4082482904638628], \n",
    "             [0.5773502691896258, -0.8164965809277263]]\n",
    "        R = [[1.7320508075688776, 1.1547005383792517],\n",
    "             [-6.661338147750939e-16, 0.8164965809277256]]\n",
    "        soln = [3.00, -1.50]\n",
    "        \"\"\"\n",
    "        return A, b\n",
    "    random.seed(seed)\n",
    "    A = [[random.random() for i in range(c)] for j in range(r)]\n",
    "    b = [random.random() for i in range(r)]\n",
    "    return A, b"
   ]
  },
  {
   "cell_type": "code",
   "execution_count": 222,
   "metadata": {},
   "outputs": [],
   "source": [
    "def normalize(z):\n",
    "    length = len(z)\n",
    "    final = []\n",
    "    squareValue = 0\n",
    "    for i in range(length) :\n",
    "        squareValue = squareValue + (z[i] * z[i])\n",
    "    sqrt = squareValue ** (1/2)\n",
    "    for i in range(length) :\n",
    "        final.append(z[i]/sqrt)\n",
    "    return final"
   ]
  },
  {
   "cell_type": "code",
   "execution_count": 223,
   "metadata": {
    "executionInfo": {
     "elapsed": 958,
     "status": "ok",
     "timestamp": 1604314265986,
     "user": {
      "displayName": "viswanath iiitb",
      "photoUrl": "",
      "userId": "05385138413223991502"
     },
     "user_tz": -330
    },
    "id": "mjpZ-QW8Kifr"
   },
   "outputs": [],
   "source": [
    "def leastSquare(A, b):\n",
    "    \"\"\"\n",
    "    solve the least squares problem using QR decomposition followed by back-substitution\n",
    "    Here, A is the matrix and b is the column vector\n",
    "    \"\"\"\n",
    "    ### YOUR CODE HERE \n",
    "    ##complete the following block of code\n",
    "    #perform QR decomposition and obtain the \"Q\" and \"R\" matrices\n",
    "    m = len(A) # no of rows\n",
    "    n = len(A[0]) # no of columns\n",
    "    Q = []\n",
    "    for i in range (0, n) :\n",
    "        ai = []\n",
    "        for j in range(m) :\n",
    "            ai.append(A[j][i]) # will fetch each column\n",
    "        for k in range(len(Q)) :\n",
    "            q = Q[k]\n",
    "            scale = 0\n",
    "            for j in range(len(ai)) :\n",
    "                scale = scale + ai[j] * q[j]\n",
    "            newq = []\n",
    "            for j in range(len(q)) :\n",
    "                newq.append(ai[j] - scale * q[j])\n",
    "            ai = newq;\n",
    "        ai = normalize(ai)\n",
    "        Q.append(ai)\n",
    "    # R = Q(T)A\n",
    "    R = []\n",
    "    for k in range(n):\n",
    "        r = []\n",
    "        for i in range(n) :\n",
    "            ai = []\n",
    "            for j in range(m) :\n",
    "                ai.append(A[j][i])\n",
    "            qk = Q[k]\n",
    "            value = 0\n",
    "            \n",
    "            for j in range(len(qk)) :\n",
    "                value = value + qk[j] * ai[j]\n",
    "            r.append(value)\n",
    "        R.append(r)\n",
    "    Q = list(map(list, zip(*Q)))\n",
    "    yield Q, R\n",
    "\n",
    "    ### YOUR CODE HERE \n",
    "    \n",
    "    ##complete the following block of code\n",
    "    #perform back-substitution and obtain the least square solution, \"soln\"\n",
    "    soln = solution(Q, R, b)\n",
    "    yield soln"
   ]
  },
  {
   "cell_type": "code",
   "execution_count": 224,
   "metadata": {},
   "outputs": [],
   "source": [
    "def solution(Q, R, b) :\n",
    "    Q = list(map(list, zip(*Q)))\n",
    "    row = len(Q)\n",
    "    col = len(Q[0])\n",
    "    r_row = len(R)\n",
    "    r_col = len(R[0])\n",
    "    k = r_col\n",
    "    x = []\n",
    "    for i in range(row - 1, -1, -1) :\n",
    "        qk = Q[i]\n",
    "        value = 0\n",
    "        for j in range(len(qk)) :\n",
    "            value = value + qk[j] * b[j]\n",
    "        rk = R[i]\n",
    "        left = 0\n",
    "        m = 1\n",
    "        x.reverse()\n",
    "        for j in range (r_col - 1, -1 + k, -1):           \n",
    "            left = left + rk[j] * x[len(x) - m]\n",
    "            m = m - 1\n",
    "        k = k- 1\n",
    "        x.reverse()\n",
    "        final = (value - left) / rk[j - 1]\n",
    "        x.append(final)\n",
    "    x.reverse()\n",
    "    return x"
   ]
  },
  {
   "cell_type": "code",
   "execution_count": 225,
   "metadata": {
    "executionInfo": {
     "elapsed": 1874,
     "status": "ok",
     "timestamp": 1604314269728,
     "user": {
      "displayName": "viswanath iiitb",
      "photoUrl": "",
      "userId": "05385138413223991502"
     },
     "user_tz": -330
    },
    "id": "171T8bbGKifv"
   },
   "outputs": [],
   "source": [
    "def main():\n",
    "    seed = 42\n",
    "    ## use sample = 1 to use the sample test-case\n",
    "    A, b, = generate_dataset(3, 2, seed, sample=0)\n",
    "\n",
    "    iterator =  leastSquare(A, b)\n",
    "    \n",
    "    Q, R = next(iterator)\n",
    "    print(\"Q \\n {}\".format(Q))\n",
    "    print(\"R \\n {}\".format(R))\n",
    "\n",
    "    soln = next(iterator)\n",
    "    print(\"Solution \\n {}\".format(soln))"
   ]
  },
  {
   "cell_type": "code",
   "execution_count": 226,
   "metadata": {
    "colab": {
     "base_uri": "https://localhost:8080/",
     "height": 303
    },
    "executionInfo": {
     "elapsed": 1100,
     "status": "error",
     "timestamp": 1604314272946,
     "user": {
      "displayName": "viswanath iiitb",
      "photoUrl": "",
      "userId": "05385138413223991502"
     },
     "user_tz": -330
    },
    "id": "hHn1hUCcKifx",
    "outputId": "93ad584f-a4b3-4047-a3cf-737e24c44b44"
   },
   "outputs": [
    {
     "name": "stdout",
     "output_type": "stream",
     "text": [
      "Q \n",
      " [[0.6309969542971976, -0.7741874703998282], [0.2714034861408441, 0.16020067612520555], [0.7267619908733923, 0.6123475353465072]]\n",
      "R \n",
      " [[1.0133595639460338, 0.5681613495503163], [2.220446049250313e-16, 0.43077076114488627]]\n",
      "Solution \n",
      " [1.4260202529741814, -0.9713375053353163]\n"
     ]
    }
   ],
   "source": [
    "main()"
   ]
  }
 ],
 "metadata": {
  "colab": {
   "name": "Student.ipynb",
   "provenance": []
  },
  "kernelspec": {
   "display_name": "Python 3",
   "language": "python",
   "name": "python3"
  },
  "language_info": {
   "codemirror_mode": {
    "name": "ipython",
    "version": 3
   },
   "file_extension": ".py",
   "mimetype": "text/x-python",
   "name": "python",
   "nbconvert_exporter": "python",
   "pygments_lexer": "ipython3",
   "version": "3.6.11"
  }
 },
 "nbformat": 4,
 "nbformat_minor": 1
}
